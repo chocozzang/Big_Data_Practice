{
 "cells": [
  {
   "cell_type": "code",
   "execution_count": 7,
   "metadata": {},
   "outputs": [],
   "source": [
    "client_id     = \"3iwm4kBmOyvA7t92v3fy\"\n",
    "client_secret =  \"9MmJsBKKUj\""
   ]
  },
  {
   "cell_type": "code",
   "execution_count": 28,
   "metadata": {},
   "outputs": [
    {
     "name": "stdout",
     "output_type": "stream",
     "text": [
      "<b>다이어트</b>보조제 빠른 체지방 감량 뱃살 <b>다이어트</b>보조제 순위 내장지방 빼는법! 글루타치온 필름 및 <b>다이어트</b>약 섭취 방법 + 체지방 컷팅제 미국 <b>다이어트</b>약 먹는다면! 강아지 <b>다이어트</b> 방법 정말 궁금했어요 김포<b>다이어트</b>한의원 반복되는 요요로 버겁다면 한방<b>다이어트</b> 꼼꼼한 도움 통한 감량으로 내과 식욕억제제 처방 연예인 <b>다이어트</b>약 추천 <b>다이어트</b>보조제 추천 체지방 뱃살빼는법 간헐적 단식 16:8 방법 커피 시간 -4kg <b>다이어트</b> 식단 \n",
      "<b>다이어트</b>보조제에 관심을 가지는 것은 비단 저 뿐만이 아닐 거예요. 제 직장 동료만 봐도 살을 빼겠다며... 다른 약에 비하면 비교적으로 부담이 덜할 수도 있겠지만, 매년 <b>다이어트</b>보조제로 인한 부작용을 겪은...  또한 <b>다이어트</b>에 관심이 많기 때문에 이런 제품 엄청 많이 찾아보거든요 몇 달 만에 5kg가 찌고 나서 살... 일본 <b>다이어트</b>보조제 순위 1위한 제품과 같은 성분으로 유명한 약인데요 식욕 조절도 도와주는데다가...  #글루타치온필름 #<b>다이어트</b>약 #체지방컷팅제 안녕하세요 ~ 오늘은 여성들의 평생 고민거리 “<b>다이어트</b>”에 대해 이야기를 해보고자 합니다. 때는 재작년 겨울에서부터 시작입니다. 항상 51kg를 유지하던...  미국 <b>다이어트</b>약 LV2 액티브슬림 컴플리트로 8kg째 열심히 살을 빼고 있어요. 제가 구매한곳은... 그치만 미국 <b>다이어트</b>약을 받고 한달동안 꾸준히 먹으니까 달라지더라고요. 확실히 거르지 않고 한 통 비우니...  그래서 저도 더 이상은 지켜볼 수가 없다 싶어서 구름이 <b>다이어트</b> 선언을 하고 일절 간식도 끊고... 가까이 <b>다이어트</b>를 열심히 했거든요 그런데 빠진 몸무게가 0.2kg였어요.. 가족들한테 저 모르게 간식을 준 게...  얻어 <b>다이어트</b>를 시도하겠지만 무작정 굶는 방식은 결코 몸에 좋은 영향이 있을 수 없고 이후에 기존 식단으로 인해 요요현상까지 나타날 수 있었죠. 계속해서 실패로 이어졌던 <b>다이어트</b>에 의해 자존감을...  한방<b>다이어트</b> 꼼꼼한 도움 통한 감량으로 안녕하세요. 체중 감량을 하고자 하는 대부분의 사람들이... 식욕은 <b>다이어트</b>의 큰 적인 만큼 한 번에 먹는 양을 갑자기 줄이게 된다면 건강 상에 문제가 발생할 수...  배티입니다 :) 지난번 운동 없이 <b>다이어트</b>에 성공한 후기를 남겼는데요! 8kg 체중 감량을 하고 나니... 구매한 <b>다이어트</b>약은 아까우니 일단 다 먹었어요. 식욕억제제 처방받은 거 2주 복용하고 5kg 감량, 52kg일때...  이번 8월은 제 자신의 노력도 물론 있긴 있었지만 특히나 <b>다이어트</b>보조제의 덕을 정말 많이 봤어요.... <b>다이어트</b>보조제 추천 이유가 바로 이거예요. 식약처 인정 받은 건강기능식품이자 천연 원료를 사용했기...  전 이 방법과 <b>다이어트</b> 식단, 운동까지 챙겼더니 원하는 정도의 몸무게를 생각보다 빠르게 도달할 수... 하루 2끼를 클린하게 챙기는게 베스트이며 <b>다이어트</b> 식단이 뒤따르면 시너지에 도움이 된답니다. 간식과...  \n"
     ]
    }
   ],
   "source": [
    "# 네이버 검색 API 예제 - 블로그 검색\n",
    "import os\n",
    "import sys\n",
    "import urllib.request\n",
    "import json\n",
    "\n",
    "encText = urllib.parse.quote(\"다이어트\")\n",
    "url = \"https://openapi.naver.com/v1/search/blog?query=\" + encText # JSON 결과\n",
    "# url = \"https://openapi.naver.com/v1/search/blog.xml?query=\" + encText # XML 결과\n",
    "request = urllib.request.Request(url)\n",
    "request.add_header(\"X-Naver-Client-Id\",client_id)\n",
    "request.add_header(\"X-Naver-Client-Secret\",client_secret)\n",
    "response = urllib.request.urlopen(request)\n",
    "rescode = response.getcode()\n",
    "if(rescode==200):\n",
    "    response_body = response.read()\n",
    "    # print(response_body.decode('utf-8'))\n",
    "    respnose_json = json.loads(response_body.decode('utf-8'))\n",
    "    items = respnose_json['items']\n",
    "    str1 = \"\"\n",
    "    str2 = \"\"\n",
    "    for item in items:\n",
    "        str1 += item['title'] + \" \"\n",
    "        #print(item['title'])\n",
    "        str2 += item['description'] + \" \"\n",
    "        #print(item['description'])\n",
    "else:\n",
    "    print(\"Error Code:\" + rescode)\n",
    "\n",
    "print(str1)\n",
    "print(str2)"
   ]
  },
  {
   "cell_type": "code",
   "execution_count": 21,
   "metadata": {},
   "outputs": [
    {
     "name": "stdout",
     "output_type": "stream",
     "text": [
      "{'message': {'result': {'srcLangType': 'ko', 'tarLangType': 'en', 'translatedText': 'Nice to meet you.', 'engineType': 'PRETRANS'}, '@type': 'response', '@service': 'naverservice.nmt.proxy', '@version': '1.0.0'}}\n"
     ]
    }
   ],
   "source": [
    "import os\n",
    "import sys\n",
    "import urllib.request\n",
    "encText = urllib.parse.quote(\"반갑습니다\")\n",
    "client_id2 = \"FBtmTWwAdW2hMNwPv5MB\"\n",
    "client_secret2 = \"Q8nGI7wSSu\"\n",
    "data = \"source=ko&target=en&text=\" + encText\n",
    "url = \"https://openapi.naver.com/v1/papago/n2mt\"\n",
    "request = urllib.request.Request(url)\n",
    "request.add_header(\"X-Naver-Client-Id\",client_id2)\n",
    "request.add_header(\"X-Naver-Client-Secret\",client_secret2)\n",
    "response = urllib.request.urlopen(request, data=data.encode(\"utf-8\"))\n",
    "rescode = response.getcode()\n",
    "if(rescode==200):\n",
    "    response_body = response.read()\n",
    "    print(response_body.decode('utf-8'))\n",
    "else:\n",
    "    print(\"Error Code:\" + rescode)"
   ]
  }
 ],
 "metadata": {
  "kernelspec": {
   "display_name": "base",
   "language": "python",
   "name": "python3"
  },
  "language_info": {
   "codemirror_mode": {
    "name": "ipython",
    "version": 3
   },
   "file_extension": ".py",
   "mimetype": "text/x-python",
   "name": "python",
   "nbconvert_exporter": "python",
   "pygments_lexer": "ipython3",
   "version": "3.11.4"
  },
  "orig_nbformat": 4
 },
 "nbformat": 4,
 "nbformat_minor": 2
}
