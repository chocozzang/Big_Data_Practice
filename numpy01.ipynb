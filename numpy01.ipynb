{
 "cells": [
  {
   "cell_type": "code",
   "execution_count": 28,
   "metadata": {},
   "outputs": [],
   "source": [
    "import numpy as np"
   ]
  },
  {
   "cell_type": "code",
   "execution_count": 29,
   "metadata": {},
   "outputs": [
    {
     "name": "stdout",
     "output_type": "stream",
     "text": [
      "[1, 2, 3, 4, 5] <class 'list'>\n",
      "[1 2 3 4 5] <class 'numpy.ndarray'>\n"
     ]
    }
   ],
   "source": [
    "## numpy는 한가지 문자열만을 담을 수 있음 ##\n",
    "\n",
    "a = [1, 2, 3, 4, 5]\n",
    "b = np.array(a)\n",
    "\n",
    "print(a, type(a))\n",
    "print(b, type(b))"
   ]
  },
  {
   "cell_type": "code",
   "execution_count": 30,
   "metadata": {},
   "outputs": [
    {
     "name": "stdout",
     "output_type": "stream",
     "text": [
      "[1 3 5 7 9]\n"
     ]
    }
   ],
   "source": [
    "b1 = np.arange(1, 10, 2)\n",
    "\n",
    "print(b1)"
   ]
  },
  {
   "cell_type": "code",
   "execution_count": 31,
   "metadata": {},
   "outputs": [
    {
     "name": "stdout",
     "output_type": "stream",
     "text": [
      "[[1, 2, 3], [4, 5, 6], [7, 8, 9]]\n",
      "[[1 2 3]\n",
      " [4 5 6]\n",
      " [7 8 9]]\n"
     ]
    }
   ],
   "source": [
    "a2 = [[1, 2, 3], [4, 5, 6], [7, 8, 9]]\n",
    "b2 = np.array(a2)\n",
    "\n",
    "print(a2)\n",
    "print(b2)"
   ]
  },
  {
   "cell_type": "code",
   "execution_count": 32,
   "metadata": {},
   "outputs": [
    {
     "name": "stdout",
     "output_type": "stream",
     "text": [
      "[1, 2, 3, 4, 5, 6, 7, 8, 9]\n",
      "[[1 2 3]\n",
      " [4 5 6]\n",
      " [7 8 9]]\n"
     ]
    }
   ],
   "source": [
    "a3 = [1, 2, 3, 4, 5, 6, 7, 8, 9]\n",
    "b3 = np.array(a3).reshape(3, 3)\n",
    "\n",
    "print(a3)\n",
    "print(b3)"
   ]
  },
  {
   "cell_type": "code",
   "execution_count": 34,
   "metadata": {},
   "outputs": [
    {
     "name": "stdout",
     "output_type": "stream",
     "text": [
      "2\n",
      "[8 5 2]\n"
     ]
    }
   ],
   "source": [
    "print(b3[0][1])\n",
    "print(b3[::-1, 1])"
   ]
  },
  {
   "cell_type": "code",
   "execution_count": 50,
   "metadata": {},
   "outputs": [
    {
     "name": "stdout",
     "output_type": "stream",
     "text": [
      "[[1 2 3]\n",
      " [4 5 6]\n",
      " [7 8 9]]\n",
      "[[11 12 13]\n",
      " [14 15 16]\n",
      " [17 18 19]]\n",
      "[[12 14 16]\n",
      " [18 20 22]\n",
      " [24 26 28]]\n",
      "[[ 11  24  39]\n",
      " [ 56  75  96]\n",
      " [119 144 171]]\n",
      "[[ 2  4  6]\n",
      " [ 8 10 12]\n",
      " [14 16 18]]\n",
      "[1, 2, 3, 4, 5, 6]\n",
      "[1, 2, 3, 1, 2, 3, 1, 2, 3]\n",
      "45\n"
     ]
    }
   ],
   "source": [
    "arr1 = np.arange(1, 10).reshape(3, 3)\n",
    "arr2 = np.arange(11, 20).reshape(3, 3)\n",
    "print(arr1)\n",
    "print(arr2)\n",
    "\n",
    "print(arr1 + arr2)\n",
    "print(arr1 * arr2)\n",
    "\n",
    "print(arr1 * 2)\n",
    "\n",
    "list1 = [1, 2, 3]\n",
    "list2 = [4, 5, 6]\n",
    "print(list1 + list2)\n",
    "#print(list1 * list2)\n",
    "print(list1 * 3)\n",
    "\n"
   ]
  },
  {
   "cell_type": "code",
   "execution_count": 56,
   "metadata": {},
   "outputs": [
    {
     "name": "stdout",
     "output_type": "stream",
     "text": [
      "45\n",
      "45\n",
      "[12 15 18]\n",
      "[ 6 15 24]\n",
      "5.0\n"
     ]
    }
   ],
   "source": [
    "print(arr1.sum())\n",
    "print(np.sum(arr1))\n",
    "print(np.sum(arr1, axis=0))\n",
    "print(np.sum(arr1, axis=1))\n",
    "print(np.mean(arr1))"
   ]
  },
  {
   "cell_type": "code",
   "execution_count": 70,
   "metadata": {},
   "outputs": [
    {
     "name": "stdout",
     "output_type": "stream",
     "text": [
      "[[5 4 2]\n",
      " [3 7 1]\n",
      " [6 9 8]]\n",
      "[[2 4 5]\n",
      " [1 3 7]\n",
      " [6 8 9]]\n",
      "[[3 4 1]\n",
      " [5 7 2]\n",
      " [6 9 8]]\n",
      "[[2 4 5]\n",
      " [1 3 7]\n",
      " [6 8 9]]\n",
      "*****************************************\n",
      "[[6 9 8]\n",
      " [5 7 2]\n",
      " [3 4 1]]\n",
      "[[5 4 2]\n",
      " [7 3 1]\n",
      " [9 8 6]]\n",
      "*****************************************\n",
      "[[5 4 2]\n",
      " [3 7 1]\n",
      " [6 9 8]]\n",
      "[[5 3 6]\n",
      " [4 7 9]\n",
      " [2 1 8]]\n"
     ]
    }
   ],
   "source": [
    "arr2 = [5, 4, 2, 3, 7, 1, 6, 9, 8]\n",
    "numarr2 = np.array(arr2).reshape(3, 3)\n",
    "\n",
    "print(numarr2)\n",
    "print(np.sort(numarr2))\n",
    "print(np.sort(numarr2, axis = 0))\n",
    "print(np.sort(numarr2, axis = 1))\n",
    "print(\"*****************************************\")\n",
    "print(np.sort(numarr2, axis = 0)[::-1, ::]) ## 열기준 행순서 역순\n",
    "print(np.sort(numarr2, axis = 1)[::, ::-1]) ## 행기준 열순서 역순\n",
    "print(\"*****************************************\")\n",
    "print(numarr2)\n",
    "print(np.transpose(numarr2))"
   ]
  },
  {
   "cell_type": "code",
   "execution_count": 74,
   "metadata": {},
   "outputs": [
    {
     "name": "stdout",
     "output_type": "stream",
     "text": [
      "[[ True False False]\n",
      " [False  True False]\n",
      " [ True  True  True]]\n",
      "False\n"
     ]
    }
   ],
   "source": [
    "print(numarr2 >= 5)\n",
    "print(np.all(numarr2) >= 5)"
   ]
  },
  {
   "cell_type": "code",
   "execution_count": 78,
   "metadata": {},
   "outputs": [
    {
     "name": "stdout",
     "output_type": "stream",
     "text": [
      "[0. 0. 0. 0. 0. 0. 0. 0. 0. 0.]\n",
      "[1. 1. 1. 1. 1. 1. 1. 1. 1. 1.]\n"
     ]
    }
   ],
   "source": [
    "zeros1 = np.zeros(10)\n",
    "ones1  = np.ones(10)\n",
    "print(zeros1)\n",
    "print(ones1)"
   ]
  },
  {
   "cell_type": "code",
   "execution_count": 81,
   "metadata": {},
   "outputs": [
    {
     "name": "stdout",
     "output_type": "stream",
     "text": [
      "[[0. 0. 0.]\n",
      " [0. 0. 0.]\n",
      " [0. 0. 0.]]\n",
      "[[1. 1. 1. 1.]\n",
      " [1. 1. 1. 1.]]\n",
      "**************************\n",
      "(3, 3)\n",
      "[[0 0 0]\n",
      " [0 0 0]\n",
      " [0 0 0]]\n",
      "[[1 1 1]\n",
      " [1 1 1]\n",
      " [1 1 1]]\n"
     ]
    }
   ],
   "source": [
    "zeros2 = np.zeros([3, 3])\n",
    "ones2  = np.ones([2, 4])\n",
    "\n",
    "print(zeros2)\n",
    "print(ones2)\n",
    "print(\"**************************\")\n",
    "print(numarr2.shape)\n",
    "zeros3 = np.zeros_like(numarr2)\n",
    "ones3  = np.ones_like(numarr2)\n",
    "print(zeros3)\n",
    "print(ones3)"
   ]
  }
 ],
 "metadata": {
  "kernelspec": {
   "display_name": "base",
   "language": "python",
   "name": "python3"
  },
  "language_info": {
   "codemirror_mode": {
    "name": "ipython",
    "version": 3
   },
   "file_extension": ".py",
   "mimetype": "text/x-python",
   "name": "python",
   "nbconvert_exporter": "python",
   "pygments_lexer": "ipython3",
   "version": "3.11.4"
  },
  "orig_nbformat": 4
 },
 "nbformat": 4,
 "nbformat_minor": 2
}
